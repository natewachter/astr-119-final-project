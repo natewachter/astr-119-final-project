{
 "cells": [
  {
   "cell_type": "markdown",
   "metadata": {},
   "source": [
    "# Logistic Maps"
   ]
  },
  {
   "cell_type": "markdown",
   "metadata": {},
   "source": [
    "## Nate Wachter -- ASTR-119 Final Project"
   ]
  },
  {
   "cell_type": "code",
   "execution_count": null,
   "metadata": {},
   "outputs": [],
   "source": [
    "%matplotlib inline\n",
    "import matplotlib.pyplot as plt\n",
    "import numpy as np"
   ]
  },
  {
   "cell_type": "markdown",
   "metadata": {},
   "source": [
    "### Function to evolve logistic map"
   ]
  },
  {
   "cell_type": "code",
   "execution_count": null,
   "metadata": {},
   "outputs": [],
   "source": [
    "def lmevolve(current, ratio):\n",
    "    return 4 * ratio * current * (1 - current)"
   ]
  },
  {
   "cell_type": "markdown",
   "metadata": {},
   "source": [
    "### Set Initial Conditions"
   ]
  },
  {
   "cell_type": "code",
   "execution_count": null,
   "metadata": {},
   "outputs": [],
   "source": [
    "x0 = 0.65\n",
    "nmax = 101\n",
    "rmin = 0.7\n",
    "rmax = 1.0\n",
    "rnum = 31\n",
    "\n",
    "r = np.linspace(rmin, rmax, rnum)\n",
    "x = np.full((rnum,nmax),x0)\n",
    "n = np.linspace(0,nmax-1,nmax)"
   ]
  },
  {
   "cell_type": "markdown",
   "metadata": {},
   "source": [
    "### Fill 2D array with data"
   ]
  },
  {
   "cell_type": "code",
   "execution_count": null,
   "metadata": {},
   "outputs": [],
   "source": [
    "for i in range(rnum):\n",
    "    for j in range(nmax-1):\n",
    "        x[i][j+1] = lmevolve(x[i][j], r[i])"
   ]
  },
  {
   "cell_type": "markdown",
   "metadata": {},
   "source": [
    "### Find Lyapunov exponents"
   ]
  },
  {
   "cell_type": "code",
   "execution_count": null,
   "metadata": {},
   "outputs": [],
   "source": [
    "lyapunov = np.zeros(rnum)\n",
    "\n",
    "for m in range(rnum):\n",
    "    for k in range(nmax):\n",
    "        lyapunov[m] += 0.5 * np.log(np.abs(4 * r[m] * (1 - 2*x[m][k])))"
   ]
  },
  {
   "cell_type": "markdown",
   "metadata": {},
   "source": [
    "### Plot Lyapunov exponents"
   ]
  },
  {
   "cell_type": "code",
   "execution_count": null,
   "metadata": {},
   "outputs": [],
   "source": [
    "plt.plot(r,lyapunov,'-b')\n",
    "plt.plot(r,np.zeros(rnum),'--')\n",
    "plt.title(\"Lyapunov exponent as a function of ratio\")\n",
    "plt.xlabel(\"Ratio\")\n",
    "plt.ylabel(\"Lyapunov exponent\")\n",
    "plt.show()"
   ]
  },
  {
   "cell_type": "markdown",
   "metadata": {},
   "source": [
    "### Print values of ratio where Lyapunov exponent is 0"
   ]
  },
  {
   "cell_type": "code",
   "execution_count": null,
   "metadata": {},
   "outputs": [],
   "source": [
    "for k in range(rnum-1):\n",
    "    if (lyapunov[k]*lyapunov[k+1] < 0):\n",
    "        print(r[k])"
   ]
  },
  {
   "cell_type": "markdown",
   "metadata": {},
   "source": [
    "### Plot of all x_n values as a function of r"
   ]
  },
  {
   "cell_type": "code",
   "execution_count": null,
   "metadata": {},
   "outputs": [],
   "source": [
    "plt.plot(r,x,'r.')\n",
    "plt.xlabel(\"ratio\")\n",
    "plt.ylabel(\"x_n\")\n",
    "plt.title(\"All x_n values for each value of the ratio\")\n",
    "plt.show()"
   ]
  },
  {
   "cell_type": "markdown",
   "metadata": {},
   "source": [
    "### Individual plots of n vs x_n for each value of r (not required)"
   ]
  },
  {
   "cell_type": "code",
   "execution_count": null,
   "metadata": {},
   "outputs": [],
   "source": [
    "#for q in range(rnum):\n",
    "#    plt.figure(num=q,figsize=(7,7))\n",
    "#    plt.plot(n,x[q][:],'r.')\n",
    "#    plt.xlabel(\"n\")\n",
    "#    plt.ylabel(\"x_n\")\n",
    "#    plt.ylim(np.min(x[q][:])-0.005,np.max(x[q][:])+0.005)\n",
    "#    plt.title(\"Logistic map for r = %1.2f\" % r[q])\n",
    "\n",
    "\n",
    "#plt.show()"
   ]
  }
 ],
 "metadata": {
  "kernelspec": {
   "display_name": "Python 3",
   "language": "python",
   "name": "python3"
  },
  "language_info": {
   "codemirror_mode": {
    "name": "ipython",
    "version": 3
   },
   "file_extension": ".py",
   "mimetype": "text/x-python",
   "name": "python",
   "nbconvert_exporter": "python",
   "pygments_lexer": "ipython3",
   "version": "3.8.6"
  }
 },
 "nbformat": 4,
 "nbformat_minor": 4
}
